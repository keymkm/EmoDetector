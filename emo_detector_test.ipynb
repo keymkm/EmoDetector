{
 "cells": [
  {
   "cell_type": "markdown",
   "metadata": {},
   "source": [
    "# Детектор эмоций\n",
    "\n",
    "В этом модуле производиться тестирование детекции эмоций на лицах по видео с веб камеры в реальном времени"
   ]
  },
  {
   "cell_type": "code",
   "execution_count": 1,
   "metadata": {},
   "outputs": [],
   "source": [
    "import emo_detector as ed"
   ]
  },
  {
   "cell_type": "code",
   "execution_count": 2,
   "metadata": {},
   "outputs": [],
   "source": [
    "detector = ed.EmoDetector()"
   ]
  },
  {
   "cell_type": "markdown",
   "metadata": {},
   "source": [
    "Для завершения нажмите **Escape**"
   ]
  },
  {
   "cell_type": "code",
   "execution_count": 5,
   "metadata": {},
   "outputs": [],
   "source": [
    "detector.run(#номер веб камеры\n",
    "             p_cam_num = 0, \n",
    "             #частота определения эмоции в кадрах \n",
    "             p_freq_emo_class = 5, \n",
    "             #цвет (RGB) рамки вокруг лиц\n",
    "             p_frame_color  = (0, 255, 0),\n",
    "             #цвет (RGB) подписи эмоции\n",
    "             p_label_color = (0, 255, 0),\n",
    "             #масштабный коэффициент, определяющий размер шрифта подписи эмоции\n",
    "             p_font_scale = 0.7)"
   ]
  }
 ],
 "metadata": {
  "kernelspec": {
   "display_name": "Python 3",
   "language": "python",
   "name": "python3"
  },
  "language_info": {
   "codemirror_mode": {
    "name": "ipython",
    "version": 3
   },
   "file_extension": ".py",
   "mimetype": "text/x-python",
   "name": "python",
   "nbconvert_exporter": "python",
   "pygments_lexer": "ipython3",
   "version": "3.7.6"
  }
 },
 "nbformat": 4,
 "nbformat_minor": 4
}
