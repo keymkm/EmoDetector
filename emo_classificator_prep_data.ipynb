{
 "cells": [
  {
   "cell_type": "markdown",
   "metadata": {},
   "source": [
    "# Аугментация исходного набора данных"
   ]
  },
  {
   "cell_type": "code",
   "execution_count": 1,
   "metadata": {},
   "outputs": [],
   "source": [
    "from tensorflow.keras.preprocessing import image\n",
    "from tensorflow.keras.preprocessing.image import ImageDataGenerator\n",
    "\n",
    "import os\n",
    "import shutil\n",
    "\n",
    "import pandas as pd\n",
    "import numpy as np"
   ]
  },
  {
   "cell_type": "code",
   "execution_count": 2,
   "metadata": {},
   "outputs": [],
   "source": [
    "# флаг использования Google drive как хранилища данных\n",
    "USE_GOOGLE_DRIVE = False\n",
    "\n",
    "#Корневая папка проекта\n",
    "root_dir = ''"
   ]
  },
  {
   "cell_type": "code",
   "execution_count": 3,
   "metadata": {},
   "outputs": [],
   "source": [
    "#Подключаем google drive, если код будет выполняться в Colab\n",
    "if USE_GOOGLE_DRIVE:\n",
    "    from google.colab import drive\n",
    "\n",
    "    drive.mount('/content/drive')\n",
    "    root_dir = '/content/drive/My Drive/Projects/EmoDetector'\n",
    "    \n",
    "    import sys\n",
    "    sys.path.append(root_dir)\n",
    "    \n",
    "#if"
   ]
  },
  {
   "cell_type": "code",
   "execution_count": 4,
   "metadata": {},
   "outputs": [],
   "source": [
    "#import importlib\n",
    "#importlib.reload (utils)\n",
    "\n",
    "import emo_utils as utils"
   ]
  },
  {
   "cell_type": "code",
   "execution_count": 5,
   "metadata": {},
   "outputs": [
    {
     "name": "stdout",
     "output_type": "stream",
     "text": [
      "{'data_dir': 'data', 'model_dir': 'model', 'train_data_dir': 'data/train', 'train_aug_data_dir': 'data/train_aug', 'val_data_dir': 'data/val', 'test_data_dir': 'data/test_kaggle', 'class_names_path': 'data/class_names.txt', 'best_checkpoint_path': 'model/emo_classificator_best'}\n"
     ]
    }
   ],
   "source": [
    "#Получаем пути к директориям и файлам проекта\n",
    "\n",
    "paths = utils.get_paths(root_dir)\n",
    "\n",
    "print (paths)"
   ]
  },
  {
   "cell_type": "code",
   "execution_count": 6,
   "metadata": {},
   "outputs": [],
   "source": [
    "# Гиперпараметры\n",
    "BATCH_SIZE = 32\n",
    "IMAGE_SIZE = 299\n",
    "VALIDATION_SPLIT = 0.2\n",
    "\n",
    "#Флаг создания валидационной выборки\n",
    "CREATE_VAL_DATA = False\n",
    "#Флаг удаления валидационной выборки\n",
    "REMOVE_VAL_DATA = False\n",
    "#Флаг создания аугментированной валидационной выборки\n",
    "CREATE_TRAIN_AUG_DATA = True\n",
    "#Флаг удаления обучающей выборки\n",
    "REMOVE_TRAIN_AUG_DATA = True"
   ]
  },
  {
   "cell_type": "code",
   "execution_count": 7,
   "metadata": {},
   "outputs": [],
   "source": [
    "#Подготовим генератор для аугментации картинок\n",
    "image_gen = ImageDataGenerator(horizontal_flip=True,\n",
    "                               zoom_range=0.2,\n",
    "                               height_shift_range=0.2,\n",
    "                               width_shift_range=0.2,\n",
    "                               rotation_range=15)\n"
   ]
  },
  {
   "cell_type": "code",
   "execution_count": 10,
   "metadata": {},
   "outputs": [
    {
     "data": {
      "text/html": [
       "<div>\n",
       "<style scoped>\n",
       "    .dataframe tbody tr th:only-of-type {\n",
       "        vertical-align: middle;\n",
       "    }\n",
       "\n",
       "    .dataframe tbody tr th {\n",
       "        vertical-align: top;\n",
       "    }\n",
       "\n",
       "    .dataframe thead th {\n",
       "        text-align: right;\n",
       "    }\n",
       "</style>\n",
       "<table border=\"1\" class=\"dataframe\">\n",
       "  <thead>\n",
       "    <tr style=\"text-align: right;\">\n",
       "      <th></th>\n",
       "      <th>path</th>\n",
       "      <th>class</th>\n",
       "      <th>validation</th>\n",
       "    </tr>\n",
       "  </thead>\n",
       "  <tbody>\n",
       "    <tr>\n",
       "      <th>0</th>\n",
       "      <td>data/train/neutral/3994.jpg</td>\n",
       "      <td>neutral</td>\n",
       "      <td>0</td>\n",
       "    </tr>\n",
       "    <tr>\n",
       "      <th>1</th>\n",
       "      <td>data/train/neutral/389.jpg</td>\n",
       "      <td>neutral</td>\n",
       "      <td>0</td>\n",
       "    </tr>\n",
       "    <tr>\n",
       "      <th>2</th>\n",
       "      <td>data/train/neutral/2135.jpg</td>\n",
       "      <td>neutral</td>\n",
       "      <td>0</td>\n",
       "    </tr>\n",
       "    <tr>\n",
       "      <th>3</th>\n",
       "      <td>data/train/neutral/5649.jpg</td>\n",
       "      <td>neutral</td>\n",
       "      <td>0</td>\n",
       "    </tr>\n",
       "    <tr>\n",
       "      <th>4</th>\n",
       "      <td>data/train/neutral/691.jpg</td>\n",
       "      <td>neutral</td>\n",
       "      <td>0</td>\n",
       "    </tr>\n",
       "    <tr>\n",
       "      <th>...</th>\n",
       "      <td>...</td>\n",
       "      <td>...</td>\n",
       "      <td>...</td>\n",
       "    </tr>\n",
       "    <tr>\n",
       "      <th>50041</th>\n",
       "      <td>data/train/surprise/1340.jpg</td>\n",
       "      <td>surprise</td>\n",
       "      <td>0</td>\n",
       "    </tr>\n",
       "    <tr>\n",
       "      <th>50042</th>\n",
       "      <td>data/train/surprise/4481.jpg</td>\n",
       "      <td>surprise</td>\n",
       "      <td>0</td>\n",
       "    </tr>\n",
       "    <tr>\n",
       "      <th>50043</th>\n",
       "      <td>data/train/surprise/4143.jpg</td>\n",
       "      <td>surprise</td>\n",
       "      <td>0</td>\n",
       "    </tr>\n",
       "    <tr>\n",
       "      <th>50044</th>\n",
       "      <td>data/train/surprise/1830.jpg</td>\n",
       "      <td>surprise</td>\n",
       "      <td>0</td>\n",
       "    </tr>\n",
       "    <tr>\n",
       "      <th>50045</th>\n",
       "      <td>data/train/surprise/2018.jpg</td>\n",
       "      <td>surprise</td>\n",
       "      <td>0</td>\n",
       "    </tr>\n",
       "  </tbody>\n",
       "</table>\n",
       "<p>50046 rows × 3 columns</p>\n",
       "</div>"
      ],
      "text/plain": [
       "                               path     class  validation\n",
       "0       data/train/neutral/3994.jpg   neutral           0\n",
       "1        data/train/neutral/389.jpg   neutral           0\n",
       "2       data/train/neutral/2135.jpg   neutral           0\n",
       "3       data/train/neutral/5649.jpg   neutral           0\n",
       "4        data/train/neutral/691.jpg   neutral           0\n",
       "...                             ...       ...         ...\n",
       "50041  data/train/surprise/1340.jpg  surprise           0\n",
       "50042  data/train/surprise/4481.jpg  surprise           0\n",
       "50043  data/train/surprise/4143.jpg  surprise           0\n",
       "50044  data/train/surprise/1830.jpg  surprise           0\n",
       "50045  data/train/surprise/2018.jpg  surprise           0\n",
       "\n",
       "[50046 rows x 3 columns]"
      ]
     },
     "execution_count": 10,
     "metadata": {},
     "output_type": "execute_result"
    }
   ],
   "source": [
    "#Соберем пути до изображений и индексы их эмоций\n",
    "\n",
    "folder = []    \n",
    "for i in os.walk(paths['train_data_dir']):\n",
    "    folder.append(i)\n",
    "\n",
    "data = {}\n",
    "index = 0\n",
    "for i in folder:\n",
    "    for j in i[2]:       \n",
    "        data [index] = {'path': i[0]+'/'+j,\n",
    "                        'class': i[0].split('/')[-1],\n",
    "                        'validation': 0}\n",
    "        \n",
    "        index = index + 1 \n",
    "    #for\n",
    "\n",
    "main_df = pd.DataFrame.from_dict(data, orient='index')\n",
    "\n",
    "main_df"
   ]
  },
  {
   "cell_type": "code",
   "execution_count": 11,
   "metadata": {},
   "outputs": [
    {
     "data": {
      "text/plain": [
       "['uncertain',\n",
       " 'disgust',\n",
       " 'happy',\n",
       " 'surprise',\n",
       " 'neutral',\n",
       " 'fear',\n",
       " 'sad',\n",
       " 'anger',\n",
       " 'contempt']"
      ]
     },
     "execution_count": 11,
     "metadata": {},
     "output_type": "execute_result"
    }
   ],
   "source": [
    "#Соберем список классов\n",
    "\n",
    "classes_names = list(set(main_df['class'].tolist()))\n",
    "\n",
    "classes_names"
   ]
  },
  {
   "cell_type": "code",
   "execution_count": 12,
   "metadata": {},
   "outputs": [],
   "source": [
    "#Создаем директорию для валидационной и обучающей выборок\n",
    "\n",
    "if REMOVE_VAL_DATA:\n",
    "    if os.path.exists(paths['val_data_dir']):\n",
    "        shutil.rmtree(paths['val_data_dir'], ignore_errors=True)\n",
    "        \n",
    "if CREATE_VAL_DATA:\n",
    "    os.makedirs(paths['val_data_dir'], exist_ok=True)\n",
    "    \n",
    "if REMOVE_TRAIN_AUG_DATA:\n",
    "    if os.path.exists(paths['train_aug_data_dir']):\n",
    "        shutil.rmtree(paths['train_aug_data_dir'], ignore_errors=True)\n",
    "        \n",
    "if CREATE_TRAIN_AUG_DATA:\n",
    "    os.makedirs(paths['train_aug_data_dir'], exist_ok=True)\n"
   ]
  },
  {
   "cell_type": "code",
   "execution_count": 13,
   "metadata": {},
   "outputs": [],
   "source": [
    "#Отделим картинки для валидации от картинок для обучения\n",
    "\n",
    "for class_name in classes_names:\n",
    "\n",
    "    #выберем все картинки класса\n",
    "    df = main_df[main_df['class'] == class_name]\n",
    "\n",
    "    if CREATE_VAL_DATA:\n",
    "        val_dir = paths['val_data_dir'] +'/'+class_name\n",
    "        os.makedirs(val_dir, exist_ok=True)\n",
    "    #if\n",
    "    \n",
    "    if CREATE_TRAIN_AUG_DATA:\n",
    "        train_dir = paths['train_aug_data_dir'] +'/'+class_name\n",
    "        os.makedirs(train_dir, exist_ok=True)\n",
    "    #if\n",
    "\n",
    "    #определим сколько картинок нужно для валидационной выборки\n",
    "    val_cnt = int(VALIDATION_SPLIT * df.count()[0])\n",
    "    cnt = 0\n",
    "    img_in_batch = 0\n",
    "    for row in df.iterrows():\n",
    "        if cnt < val_cnt:\n",
    "            if CREATE_VAL_DATA:\n",
    "                shutil.copy(row[1]['path'], val_dir)\n",
    "    \n",
    "        else:\n",
    "            if CREATE_TRAIN_AUG_DATA:\n",
    "                shutil.copy(row[1]['path'], train_dir)\n",
    "                \n",
    "                img = image.load_img(row[1]['path'], target_size= (IMAGE_SIZE, IMAGE_SIZE))\n",
    "                img = image.img_to_array(img)\n",
    "                img = np.expand_dims(img, axis=0)\n",
    "                \n",
    "                if img_in_batch == 0:\n",
    "                    images = img\n",
    "                else:\n",
    "                    images = np.append(images, img, axis=0)\n",
    "                    \n",
    "                img_in_batch = img_in_batch + 1\n",
    "                \n",
    "                #когда набрали пул картинок равный BATCH_SIZE, то генерируем аугментированные картинки \n",
    "                if img_in_batch == BATCH_SIZE:\n",
    "                    train_generator = image_gen.flow (images, \n",
    "                                                      batch_size= BATCH_SIZE, \n",
    "                                                      save_to_dir= train_dir, \n",
    "                                                      save_format= 'jpeg',\n",
    "                                                      save_prefix= 'a')\n",
    "                    \n",
    "                    next(train_generator)                    \n",
    "                    \n",
    "                    img_in_batch = 0 \n",
    "                #if\n",
    "                    \n",
    "                \n",
    "            #if\n",
    "        \n",
    "        \n",
    "        cnt = cnt + 1\n",
    "\n",
    "    #for\n",
    "\n",
    "#for        \n"
   ]
  }
 ],
 "metadata": {
  "kernelspec": {
   "display_name": "Python 3",
   "language": "python",
   "name": "python3"
  },
  "language_info": {
   "codemirror_mode": {
    "name": "ipython",
    "version": 3
   },
   "file_extension": ".py",
   "mimetype": "text/x-python",
   "name": "python",
   "nbconvert_exporter": "python",
   "pygments_lexer": "ipython3",
   "version": "3.7.6"
  }
 },
 "nbformat": 4,
 "nbformat_minor": 4
}
