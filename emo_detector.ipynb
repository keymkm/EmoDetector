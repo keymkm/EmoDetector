{
 "cells": [
  {
   "cell_type": "markdown",
   "metadata": {},
   "source": [
    "# Детектор эмоций\n",
    "\n",
    "В этом модуле производиться детекция лиц с веб камеры и распознование эмоции на лицах"
   ]
  },
  {
   "cell_type": "code",
   "execution_count": 1,
   "metadata": {},
   "outputs": [],
   "source": [
    "import cv2\n",
    "\n",
    "import numpy as np\n",
    "\n",
    "import emo_utils as utils\n",
    "import emo_classificator_model as ecm"
   ]
  },
  {
   "cell_type": "markdown",
   "metadata": {},
   "source": [
    "### Загрузка классификатора эмоций"
   ]
  },
  {
   "cell_type": "code",
   "execution_count": 2,
   "metadata": {},
   "outputs": [],
   "source": [
    "#Получаем пути к директориям и файлам проекта\n",
    "paths = utils.get_paths()"
   ]
  },
  {
   "cell_type": "code",
   "execution_count": 3,
   "metadata": {},
   "outputs": [],
   "source": [
    "#Путь к сохраненной модели\n",
    "model_path = paths['model_dir'] + '/emo_classificator_best_210105121553_resnet50_e20_aug1_acc44.h5'\n"
   ]
  },
  {
   "cell_type": "code",
   "execution_count": 4,
   "metadata": {},
   "outputs": [
    {
     "data": {
      "text/plain": [
       "['anger',\n",
       " 'contempt',\n",
       " 'disgust',\n",
       " 'fear',\n",
       " 'happy',\n",
       " 'neutral',\n",
       " 'sad',\n",
       " 'surprise',\n",
       " 'uncertain']"
      ]
     },
     "execution_count": 4,
     "metadata": {},
     "output_type": "execute_result"
    }
   ],
   "source": [
    "#загрузим названия эмоций (классов)\n",
    "emo_classes_names = []\n",
    "with open(paths['class_names_path'], 'r') as f:\n",
    "    emo_classes_names = f.read().split(',')\n",
    "    \n",
    "emo_classes_names"
   ]
  },
  {
   "cell_type": "code",
   "execution_count": 5,
   "metadata": {},
   "outputs": [],
   "source": [
    "#Создадим классификатор эмоций\n",
    "\n",
    "base_model_names = ['resnet50', 'vgg16', 'xception']\n",
    "\n",
    "#тип базовой модели\n",
    "base_model = None\n",
    "for model_name in base_model_names:\n",
    "    if model_path.find(model_name) > -1:\n",
    "        base_model = model_name\n",
    "        break\n",
    "    #if\n",
    "\n",
    "emo_classifier = ecm.EmoClassifier (model_path, base_model, emo_classes_names)"
   ]
  },
  {
   "cell_type": "markdown",
   "metadata": {},
   "source": [
    "### Распознование эмоций по лицам с веб-камеры\n",
    "\n",
    "Для завершения нажмите **Escape**"
   ]
  },
  {
   "cell_type": "code",
   "execution_count": 7,
   "metadata": {},
   "outputs": [],
   "source": [
    "#Детекция лиц на веб камере и определение эмоций\n",
    "\n",
    "#Цвет рамки лица (RGB)\n",
    "frame_color = (0, 255, 0)\n",
    "#Цвет подписи эмоции (RGB)\n",
    "label_color = (0, 255, 0)\n",
    "\n",
    "#Шрифт подписи эмоции\n",
    "font = cv2.FONT_HERSHEY_TRIPLEX\n",
    "# размер подписи эмоции\n",
    "font_scale = 0.7\n",
    "#Частота (количестыо кадров) определения эмоции \n",
    "freq_emo_class = 5\n",
    "\n",
    "# загружаем настройки opencv для детекции лица\n",
    "face_cascade = cv2.CascadeClassifier(paths['model_dir'] + '/haarcascade_frontalface_alt.xml')\n",
    "\n",
    "try:\n",
    "    # захватываем изображение с веб камеры\n",
    "    cap = cv2.VideoCapture(0)\n",
    "\n",
    "    cnt = 0\n",
    "    amo_label = ''\n",
    "    while True:\n",
    "        # получаем картинку с камеры\n",
    "        _, img = cap.read()\n",
    "        # конвертируем изображение в черно-белые (серые) цвета\n",
    "        gray = cv2.cvtColor(img, cv2.COLOR_BGR2GRAY)\n",
    "        # Детектируем лица\n",
    "        faces = face_cascade.detectMultiScale(gray, 1.1, 4)\n",
    "        \n",
    "        # Отрисовка рамок вокруг каждого лица\n",
    "        for (x, y, w, h) in faces:\n",
    "            cv2.rectangle(img, (x, y), (x+w, y+h), frame_color, 2)\n",
    "        \n",
    "            #вырезаем лицо по рамке\n",
    "            crop_img = img[y:y+h, x:x+w]\n",
    "        \n",
    "            if cnt == freq_emo_class:\n",
    "                \n",
    "                #Подготавливаем изображение для отправки в модель\n",
    "                preprocessed_img = cv2.resize(crop_img, \n",
    "                                              dsize=(emo_classifier.image_size, emo_classifier.image_size), \n",
    "                                              interpolation = cv2.INTER_CUBIC)\n",
    "                \n",
    "                preprocessed_img = np.asarray(preprocessed_img)\n",
    "                preprocessed_img = np.expand_dims(preprocessed_img, axis=0)\n",
    "        \n",
    "                #получим предсказания\n",
    "                amo_label = emo_classifier.predict (emo_classifier.preprocess_input_func(preprocessed_img))\n",
    "                \n",
    "            #if\n",
    "          \n",
    "            cv2.putText(img, amo_label, (x - 3, y - 2), font, font_scale, label_color)\n",
    "    \n",
    "        #for\n",
    "        \n",
    "        if cnt == freq_emo_class:\n",
    "            cnt = 0\n",
    "        else:\n",
    "            cnt = cnt + 1\n",
    "        \n",
    "        # вывод изображения\n",
    "        cv2.imshow('img', img)\n",
    "        # Заканчиваем, если была нажата кнопка \"Escape\"\n",
    "        k = cv2.waitKey(30) & 0xff\n",
    "        if k==27:\n",
    "            break\n",
    "        \n",
    "    #while\n",
    "#try\n",
    "finally:\n",
    "    cap.release()\n",
    "    cv2.destroyAllWindows()\n",
    "#finally"
   ]
  }
 ],
 "metadata": {
  "kernelspec": {
   "display_name": "Python 3",
   "language": "python",
   "name": "python3"
  },
  "language_info": {
   "codemirror_mode": {
    "name": "ipython",
    "version": 3
   },
   "file_extension": ".py",
   "mimetype": "text/x-python",
   "name": "python",
   "nbconvert_exporter": "python",
   "pygments_lexer": "ipython3",
   "version": "3.7.6"
  }
 },
 "nbformat": 4,
 "nbformat_minor": 4
}
