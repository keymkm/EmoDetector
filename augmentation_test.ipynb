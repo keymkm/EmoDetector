{
 "cells": [
  {
   "cell_type": "code",
   "execution_count": 2,
   "metadata": {},
   "outputs": [],
   "source": [
    "from tensorflow.keras.preprocessing import image\n",
    "from tensorflow.keras.preprocessing.image import ImageDataGenerator\n",
    "\n",
    "import numpy as np"
   ]
  },
  {
   "cell_type": "code",
   "execution_count": 31,
   "metadata": {},
   "outputs": [],
   "source": [
    "image_gen = ImageDataGenerator(rotation_range=30)\n",
    "                               #horizontal_flip=True \n",
    "                               #zoom_range=0.2,\n",
    "                               #height_shift_range=0.2,\n",
    "                               #width_shift_range=0.2,\n",
    "                               #rotation_range=15)"
   ]
  },
  {
   "cell_type": "code",
   "execution_count": 18,
   "metadata": {},
   "outputs": [],
   "source": [
    "img = image.load_img('data/test_kaggle/4999.jpg', target_size= (299, 299))\n",
    "img = image.img_to_array(img)\n",
    "img = np.expand_dims(img, axis=0)"
   ]
  },
  {
   "cell_type": "code",
   "execution_count": 32,
   "metadata": {},
   "outputs": [],
   "source": [
    "train_generator = image_gen.flow (img, \n",
    "                                  save_to_dir= 'images', \n",
    "                                  save_format= 'jpeg',\n",
    "                                  save_prefix= 'a')"
   ]
  },
  {
   "cell_type": "code",
   "execution_count": 34,
   "metadata": {},
   "outputs": [
    {
     "data": {
      "text/plain": [
       "array([[[[248.       , 248.       , 248.       ],\n",
       "         [248.       , 248.       , 248.       ],\n",
       "         [248.       , 248.       , 248.       ],\n",
       "         ...,\n",
       "         [154.89915  , 119.08043  ,  50.557022 ],\n",
       "         [128.48328  ,  99.85901  ,  41.988194 ],\n",
       "         [ 75.06713  ,  48.450134 ,   5.0388017]],\n",
       "\n",
       "        [[248.       , 248.       , 248.       ],\n",
       "         [248.       , 248.       , 248.       ],\n",
       "         [248.       , 248.       , 248.       ],\n",
       "         ...,\n",
       "         [150.47795  , 116.3435   ,  49.925423 ],\n",
       "         [114.16701  ,  86.17435  ,  31.882593 ],\n",
       "         [ 87.488594 ,  59.6084   ,  15.354934 ]],\n",
       "\n",
       "        [[248.       , 248.       , 248.       ],\n",
       "         [248.       , 248.       , 248.       ],\n",
       "         [248.       , 248.       , 248.       ],\n",
       "         ...,\n",
       "         [146.05676  , 113.60656  ,  49.293823 ],\n",
       "         [ 99.85074  ,  72.48968  ,  21.776995 ],\n",
       "         [ 99.91006  ,  70.76666  ,  25.671066 ]],\n",
       "\n",
       "        ...,\n",
       "\n",
       "        [[164.59917  , 113.399445 ,  84.19972  ],\n",
       "         [170.       , 117.       ,  86.       ],\n",
       "         [170.27518  , 117.1651   ,  86.1651   ],\n",
       "         ...,\n",
       "         [132.88771  ,  90.89793  ,  48.87751  ],\n",
       "         [130.57185  ,  88.792595 ,  46.351112 ],\n",
       "         [128.25598  ,  86.687256 ,  43.82471  ]],\n",
       "\n",
       "        [[165.86237  , 114.24158  ,  84.62079  ],\n",
       "         [170.       , 117.       ,  86.       ],\n",
       "         [171.32784  , 117.7967   ,  86.7967   ],\n",
       "         ...,\n",
       "         [120.42407  ,  78.42407  ,  38.35883  ],\n",
       "         [123.161    ,  81.161    ,  40.674694 ],\n",
       "         [125.897934 ,  83.897934 ,  42.990562 ]],\n",
       "\n",
       "        [[167.12556  , 115.08371  ,  85.041855 ],\n",
       "         [170.       , 117.       ,  86.       ],\n",
       "         [172.38051  , 118.4283   ,  87.4283   ],\n",
       "         ...,\n",
       "         [111.49531  ,  68.55034  ,  33.27517  ],\n",
       "         [113.39011  ,  70.65567  ,  34.327835 ],\n",
       "         [115.284904 ,  72.76101  ,  35.380505 ]]]], dtype=float32)"
      ]
     },
     "execution_count": 34,
     "metadata": {},
     "output_type": "execute_result"
    }
   ],
   "source": [
    "next(train_generator)"
   ]
  }
 ],
 "metadata": {
  "kernelspec": {
   "display_name": "Python 3",
   "language": "python",
   "name": "python3"
  },
  "language_info": {
   "codemirror_mode": {
    "name": "ipython",
    "version": 3
   },
   "file_extension": ".py",
   "mimetype": "text/x-python",
   "name": "python",
   "nbconvert_exporter": "python",
   "pygments_lexer": "ipython3",
   "version": "3.7.6"
  }
 },
 "nbformat": 4,
 "nbformat_minor": 4
}
